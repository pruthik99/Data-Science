{
 "cells": [
  {
   "cell_type": "code",
   "execution_count": null,
   "metadata": {
    "id": "c-ePEO3uN-hv"
   },
   "outputs": [],
   "source": [
    "import pandas as pd\n",
    "import numpy as np\n",
    "import seaborn as sns\n",
    "import matplotlib.pyplot as plt\n",
    "import pystan"
   ]
  },
  {
   "cell_type": "code",
   "execution_count": null,
   "metadata": {
    "id": "PFH4WUeBOLS_"
   },
   "outputs": [],
   "source": [
    "d_df = pd.read_csv('data.csv')"
   ]
  },
  {
   "cell_type": "code",
   "execution_count": null,
   "metadata": {
    "id": "Po0DYi1_O1ZD"
   },
   "outputs": [],
   "source": [
    "sample_code = \"\"\"\n",
    "data {\n",
    "  int <lower=1> T;\n",
    "  vector[T] h;        \n",
    "  vector[T] a;              \n",
    "  real a_bar; \n",
    "}\n",
    "parameters {\n",
    "  real alpha;\n",
    "  real beta;\n",
    "  real sigma;\n",
    "}\n",
    "model {\n",
    "  vector[T] mu;\n",
    "  alpha ~ normal(178,20);\n",
    "  beta ~ normal(0,10);\n",
    "  sigma ~ uniform(0,50);\n",
    "  for(i in 1:T){\n",
    "    mu[i] = alpha + beta * (a[i]-a_bar);\n",
    "  }\n",
    "  h ~ normal(mu,sigma);\n",
    "}\n",
    "\"\"\""
   ]
  },
  {
   "cell_type": "code",
   "execution_count": null,
   "metadata": {
    "colab": {
     "base_uri": "https://localhost:8080/"
    },
    "id": "-gYSMfqFIG9J",
    "outputId": "01adeeea-9c4c-41dc-a10f-78dff0cec0f1"
   },
   "outputs": [],
   "source": [
    "people_data = { \"T\":544,\n",
    "                \"h\": list(d_df['height']),\n",
    "                \"a_bar\": d_df['age'].mean(),\n",
    "                \"a\": list(d_df['age'])}\n",
    "\n",
    "sm = pystan.StanModel(model_code=sample_code)\n",
    "fit = sm.sampling(data=people_data, iter=1000, chains=4, seed=1)"
   ]
  },
  {
   "cell_type": "code",
   "execution_count": null,
   "metadata": {
    "id": "kZd8Jh4kggrh"
   },
   "outputs": [],
   "source": [
    "summary_dict = fit.summary()\n",
    "df = pd.DataFrame(summary_dict['summary'], \n",
    "                  columns=summary_dict['summary_colnames'], \n",
    "                  index=summary_dict['summary_rownames'])\n",
    "\n",
    "alpha_mean, beta_mean = df['mean']['alpha'], df['mean']['beta']\n",
    "alpha = fit['alpha']\n",
    "beta = fit['beta']"
   ]
  },
  {
   "cell_type": "code",
   "execution_count": null,
   "metadata": {
    "colab": {
     "base_uri": "https://localhost:8080/",
     "height": 530
    },
    "id": "pQix4JzBgCIT",
    "outputId": "cb364084-0cbe-442d-8622-e81396eb896e"
   },
   "outputs": [],
   "source": [
    "age_plot = np.array(d_df['age'])\n",
    "x_min = min(age_plot)\n",
    "x_max = max(age_plot)\n",
    "\n",
    "plt.figure(figsize=(15,8))\n",
    "\n",
    "for i in range(100):\n",
    "    alpha_p, beta_p = alpha[i], beta[i]\n",
    "    plt.plot(age_plot, alpha_p + beta_p * age_plot, color='lightsteelblue', alpha=0.5 )\n",
    "    \n",
    "plt.plot(age_plot, alpha_mean + beta_mean * age_plot)\n",
    "plt.scatter(d_df['age'], d_df['height'])\n",
    "plt.xlabel('Age')\n",
    "plt.ylabel('Height')\n",
    "plt.title('Normal Distribution of Height with 100 Lines')\n",
    "plt.xlim(x_min, x_max)\n",
    "plt.savefig('graph.png', bbox_inches='tight')\n",
    "plt.show()"
   ]
  }
 ],
 "metadata": {
  "colab": {
   "collapsed_sections": [],
   "name": "Untitled4.ipynb",
   "provenance": []
  },
  "kernelspec": {
   "display_name": "Python 3 (ipykernel)",
   "language": "python",
   "name": "python3"
  },
  "language_info": {
   "codemirror_mode": {
    "name": "ipython",
    "version": 3
   },
   "file_extension": ".py",
   "mimetype": "text/x-python",
   "name": "python",
   "nbconvert_exporter": "python",
   "pygments_lexer": "ipython3",
   "version": "3.9.6"
  }
 },
 "nbformat": 4,
 "nbformat_minor": 1
}
